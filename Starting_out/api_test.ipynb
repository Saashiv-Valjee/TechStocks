{
 "cells": [
  {
   "cell_type": "markdown",
   "id": "6b9e0ab1",
   "metadata": {},
   "source": [
    "https://pypi.org/project/yfinance/0.1.50"
   ]
  },
  {
   "cell_type": "code",
   "execution_count": 15,
   "id": "4d1ce272",
   "metadata": {},
   "outputs": [],
   "source": [
    "import yfinance as yf\n",
    "import inspect"
   ]
  },
  {
   "cell_type": "markdown",
   "id": "cd92cb24",
   "metadata": {},
   "source": [
    "reading in a ticker"
   ]
  },
  {
   "cell_type": "code",
   "execution_count": 7,
   "id": "a0da86c2",
   "metadata": {},
   "outputs": [],
   "source": [
    "nvda = yf.Ticker(\"NVDA\")"
   ]
  },
  {
   "cell_type": "markdown",
   "id": "ebdd41fa",
   "metadata": {},
   "source": [
    "all available functions associated to object"
   ]
  },
  {
   "cell_type": "code",
   "execution_count": 11,
   "id": "a6f560a2",
   "metadata": {},
   "outputs": [
    {
     "data": {
      "text/plain": [
       "['__class__',\n",
       " '__delattr__',\n",
       " '__dict__',\n",
       " '__dir__',\n",
       " '__doc__',\n",
       " '__eq__',\n",
       " '__format__',\n",
       " '__ge__',\n",
       " '__getattribute__',\n",
       " '__getstate__',\n",
       " '__gt__',\n",
       " '__hash__',\n",
       " '__init__',\n",
       " '__init_subclass__',\n",
       " '__le__',\n",
       " '__lt__',\n",
       " '__module__',\n",
       " '__ne__',\n",
       " '__new__',\n",
       " '__reduce__',\n",
       " '__reduce_ex__',\n",
       " '__repr__',\n",
       " '__setattr__',\n",
       " '__sizeof__',\n",
       " '__str__',\n",
       " '__subclasshook__',\n",
       " '__weakref__',\n",
       " '_analysis',\n",
       " '_data',\n",
       " '_download_options',\n",
       " '_earnings',\n",
       " '_earnings_dates',\n",
       " '_expirations',\n",
       " '_fast_info',\n",
       " '_fetch_ticker_tz',\n",
       " '_financials',\n",
       " '_fundamentals',\n",
       " '_funds_data',\n",
       " '_get_ticker_tz',\n",
       " '_holders',\n",
       " '_isin',\n",
       " '_lazy_load_price_history',\n",
       " '_message_handler',\n",
       " '_news',\n",
       " '_options2df',\n",
       " '_price_history',\n",
       " '_quote',\n",
       " '_shares',\n",
       " '_tz',\n",
       " '_underlying',\n",
       " 'actions',\n",
       " 'analyst_price_targets',\n",
       " 'balance_sheet',\n",
       " 'balancesheet',\n",
       " 'calendar',\n",
       " 'capital_gains',\n",
       " 'cash_flow',\n",
       " 'cashflow',\n",
       " 'dividends',\n",
       " 'earnings',\n",
       " 'earnings_dates',\n",
       " 'earnings_estimate',\n",
       " 'earnings_history',\n",
       " 'eps_revisions',\n",
       " 'eps_trend',\n",
       " 'fast_info',\n",
       " 'financials',\n",
       " 'funds_data',\n",
       " 'get_actions',\n",
       " 'get_analyst_price_targets',\n",
       " 'get_balance_sheet',\n",
       " 'get_balancesheet',\n",
       " 'get_calendar',\n",
       " 'get_capital_gains',\n",
       " 'get_cash_flow',\n",
       " 'get_cashflow',\n",
       " 'get_dividends',\n",
       " 'get_earnings',\n",
       " 'get_earnings_dates',\n",
       " 'get_earnings_estimate',\n",
       " 'get_earnings_history',\n",
       " 'get_eps_revisions',\n",
       " 'get_eps_trend',\n",
       " 'get_fast_info',\n",
       " 'get_financials',\n",
       " 'get_funds_data',\n",
       " 'get_growth_estimates',\n",
       " 'get_history_metadata',\n",
       " 'get_income_stmt',\n",
       " 'get_incomestmt',\n",
       " 'get_info',\n",
       " 'get_insider_purchases',\n",
       " 'get_insider_roster_holders',\n",
       " 'get_insider_transactions',\n",
       " 'get_institutional_holders',\n",
       " 'get_isin',\n",
       " 'get_major_holders',\n",
       " 'get_mutualfund_holders',\n",
       " 'get_news',\n",
       " 'get_recommendations',\n",
       " 'get_recommendations_summary',\n",
       " 'get_revenue_estimate',\n",
       " 'get_sec_filings',\n",
       " 'get_shares',\n",
       " 'get_shares_full',\n",
       " 'get_splits',\n",
       " 'get_sustainability',\n",
       " 'get_upgrades_downgrades',\n",
       " 'growth_estimates',\n",
       " 'history',\n",
       " 'history_metadata',\n",
       " 'income_stmt',\n",
       " 'incomestmt',\n",
       " 'info',\n",
       " 'insider_purchases',\n",
       " 'insider_roster_holders',\n",
       " 'insider_transactions',\n",
       " 'institutional_holders',\n",
       " 'isin',\n",
       " 'live',\n",
       " 'major_holders',\n",
       " 'mutualfund_holders',\n",
       " 'news',\n",
       " 'option_chain',\n",
       " 'options',\n",
       " 'quarterly_balance_sheet',\n",
       " 'quarterly_balancesheet',\n",
       " 'quarterly_cash_flow',\n",
       " 'quarterly_cashflow',\n",
       " 'quarterly_earnings',\n",
       " 'quarterly_financials',\n",
       " 'quarterly_income_stmt',\n",
       " 'quarterly_incomestmt',\n",
       " 'recommendations',\n",
       " 'recommendations_summary',\n",
       " 'revenue_estimate',\n",
       " 'sec_filings',\n",
       " 'session',\n",
       " 'shares',\n",
       " 'splits',\n",
       " 'sustainability',\n",
       " 'ticker',\n",
       " 'ttm_cash_flow',\n",
       " 'ttm_cashflow',\n",
       " 'ttm_financials',\n",
       " 'ttm_income_stmt',\n",
       " 'ttm_incomestmt',\n",
       " 'upgrades_downgrades',\n",
       " 'ws']"
      ]
     },
     "execution_count": 11,
     "metadata": {},
     "output_type": "execute_result"
    }
   ],
   "source": [
    "dir(nvda)"
   ]
  },
  {
   "cell_type": "markdown",
   "id": "5475a098",
   "metadata": {},
   "source": [
    "getting historical data"
   ]
  },
  {
   "cell_type": "code",
   "execution_count": 30,
   "id": "1832cb43",
   "metadata": {},
   "outputs": [],
   "source": [
    "hist = nvda.history(period=\"max\")"
   ]
  },
  {
   "cell_type": "code",
   "execution_count": 31,
   "id": "dd2d99aa",
   "metadata": {},
   "outputs": [
    {
     "name": "stdout",
     "output_type": "stream",
     "text": [
      "                                 Open        High         Low       Close  \\\n",
      "Date                                                                        \n",
      "1999-01-22 00:00:00-05:00    0.040116    0.044772    0.035579    0.037609   \n",
      "1999-01-25 00:00:00-05:00    0.040594    0.042026    0.037609    0.041549   \n",
      "1999-01-26 00:00:00-05:00    0.042026    0.042862    0.037728    0.038325   \n",
      "1999-01-27 00:00:00-05:00    0.038444    0.039400    0.036295    0.038206   \n",
      "1999-01-28 00:00:00-05:00    0.038206    0.038444    0.037847    0.038086   \n",
      "...                               ...         ...         ...         ...   \n",
      "2025-07-23 00:00:00-04:00  169.529999  171.259995  167.970001  170.779999   \n",
      "2025-07-24 00:00:00-04:00  172.440002  173.830002  171.300003  173.740005   \n",
      "2025-07-25 00:00:00-04:00  173.610001  174.720001  172.960007  173.500000   \n",
      "2025-07-28 00:00:00-04:00  174.020004  177.000000  173.970001  176.750000   \n",
      "2025-07-29 00:00:00-04:00  177.960007  179.380005  175.169998  176.419998   \n",
      "\n",
      "                               Volume  Dividends  Stock Splits  \n",
      "Date                                                            \n",
      "1999-01-22 00:00:00-05:00  2714688000        0.0           0.0  \n",
      "1999-01-25 00:00:00-05:00   510480000        0.0           0.0  \n",
      "1999-01-26 00:00:00-05:00   343200000        0.0           0.0  \n",
      "1999-01-27 00:00:00-05:00   244368000        0.0           0.0  \n",
      "1999-01-28 00:00:00-05:00   227520000        0.0           0.0  \n",
      "...                               ...        ...           ...  \n",
      "2025-07-23 00:00:00-04:00   154082200        0.0           0.0  \n",
      "2025-07-24 00:00:00-04:00   128984600        0.0           0.0  \n",
      "2025-07-25 00:00:00-04:00   122316800        0.0           0.0  \n",
      "2025-07-28 00:00:00-04:00   139508100        0.0           0.0  \n",
      "2025-07-29 00:00:00-04:00   119035024        0.0           0.0  \n",
      "\n",
      "[6670 rows x 7 columns]\n"
     ]
    }
   ],
   "source": [
    "print(hist)"
   ]
  }
 ],
 "metadata": {
  "kernelspec": {
   "display_name": "tech_stocks",
   "language": "python",
   "name": "python3"
  },
  "language_info": {
   "codemirror_mode": {
    "name": "ipython",
    "version": 3
   },
   "file_extension": ".py",
   "mimetype": "text/x-python",
   "name": "python",
   "nbconvert_exporter": "python",
   "pygments_lexer": "ipython3",
   "version": "3.11.13"
  }
 },
 "nbformat": 4,
 "nbformat_minor": 5
}
