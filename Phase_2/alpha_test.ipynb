{
 "cells": [
  {
   "cell_type": "code",
   "execution_count": 123,
   "id": "4f415bd0",
   "metadata": {},
   "outputs": [
    {
     "name": "stdout",
     "output_type": "stream",
     "text": [
      "Fetching NVDA\n",
      "Fetching AMD\n",
      "Fetching TSM\n",
      "Fetching SMCI\n",
      "Fetching SOXX\n"
     ]
    }
   ],
   "source": [
    "from qr_proj.data_loader import TickerReader\n",
    "import pandas as pd \n",
    "import matplotlib.pyplot as plt \n",
    "import matplotlib.dates as dates\n",
    "import os \n",
    "import numpy as np\n",
    "import yaml\n",
    "\n",
    "with open(\"e:/QR_Proj/Phase_2/config.yaml\", \"r\") as f:\n",
    "    config = yaml.safe_load(f)\n",
    "\n",
    "# readability \n",
    "main_ticker = config['main_ticker'][0]\n",
    "\n",
    "stock_starts = []\n",
    "\n",
    "ticker_class = TickerReader(config['tickers'])\n",
    "ticker_histMap = ticker_class.ticker_hists_return()\n",
    "for ticker in config['tickers']:\n",
    "    ticker_histMap[ticker]['Year'] = ticker_histMap[ticker].index.year\n",
    "    ticker_histMap[ticker][\"zscore\"] = TickerReader.Z_score(ticker_histMap[ticker]['Close'],config[\"window_sizes\"][\"zscore\"][1])\n",
    "    ticker_histMap[ticker]['10D_Returns'] = ticker_histMap[ticker]['Close'].pct_change(periods=9)\n",
    "    stock_starts.append((ticker_histMap[ticker].index)[0])\n",
    "    stock_end = (ticker_histMap[ticker].index)[-1]\n",
    "all_dates = pd.date_range(start=np.array(stock_starts).max(),end=stock_end)\n",
    "\n",
    "for ticker in config['tickers']:\n",
    "    ticker_histMap[ticker] = ticker_histMap[ticker][(ticker_histMap[ticker].index).isin(all_dates)]\n",
    "\n",
    "long_zscores = ticker_histMap[main_ticker][\n",
    "    (ticker_histMap[main_ticker]['zscore'] > ticker_histMap['AMD']['zscore']) & \n",
    "    (ticker_histMap[main_ticker]['zscore'] > ticker_histMap['TSM']['zscore'])\n",
    "]\n",
    "\n",
    "long_pct = ticker_histMap[main_ticker][ticker_histMap[main_ticker]['10D_Returns'] > 1.5 * ticker_histMap['SOXX']['10D_Returns']]"
   ]
  },
  {
   "cell_type": "code",
   "execution_count": 132,
   "id": "f7eaf30e",
   "metadata": {},
   "outputs": [],
   "source": [
    "for year in sorted(ticker_histMap[main_ticker]['Year'].unique()):\n",
    "    nvda_year = ticker_histMap[main_ticker][ticker_histMap[main_ticker]['Year'] == year]\n",
    "    soxx_year = ticker_histMap['SOXX'][ticker_histMap['SOXX']['Year'] == year]\n",
    "    amd_year = ticker_histMap['AMD'][ticker_histMap['AMD']['Year'] == year]\n",
    "    tsm_year = ticker_histMap['TSM'][ticker_histMap['TSM']['Year'] == year]\n",
    "\n",
    "    long_zscores_year = long_zscores[long_zscores.index.year == year]\n",
    "    long_pct_year = long_pct[long_pct.index.year == year]\n",
    "\n",
    "    fig, (ax1, ax2) = plt.subplots(2, 1, figsize=(14, 8), sharex=True)\n",
    "\n",
    "    # plot the 10D returns \n",
    "    # mark the points that meet the signal condition\n",
    "    ax1.plot(nvda_year.index, nvda_year['10D_Returns'], label='NVDA 10D Return', color='green')\n",
    "    ax1.plot(soxx_year.index, soxx_year['10D_Returns'], label='SOXX 10D Return', color='blue', alpha=0.6)\n",
    "\n",
    "    ax1.scatter(long_pct_year.index,\n",
    "                long_pct_year['10D_Returns'],\n",
    "                color='green', marker='o', label='Signal: NVDA > SOXX by threshold')\n",
    "\n",
    "    ax1.set_ylabel(\"10-Day Return\")\n",
    "    ax1.set_title(f\"NVDA Alpha Signals - {year}\")\n",
    "    ax1.grid(True)\n",
    "    ax1.legend(loc='upper left')\n",
    "\n",
    "    # plot the zscore of AMD, NVDA and TSM(C) \n",
    "    # marks \n",
    "    ax2.plot(nvda_year.index, nvda_year['zscore'], label='NVDA z-score', color='green')\n",
    "    ax2.plot(amd_year.index, amd_year['zscore'], label='AMD z-score', color='blue', alpha=0.4)\n",
    "    ax2.plot(tsm_year.index, tsm_year['zscore'], label='TSM z-score', color='red', alpha=0.4)\n",
    "\n",
    "    ax2.scatter(long_zscores_year.index,\n",
    "                long_zscores_year['zscore'],\n",
    "                color='green', marker='o', label='Signal: NVDA z > AMD & TSM')\n",
    "\n",
    "    ax2.set_ylabel(\"Z-Score\")\n",
    "    ax2.set_xlabel(\"Date\")\n",
    "    ax2.grid(True)\n",
    "    ax2.legend(loc='upper left')\n",
    "    fig.tight_layout()\n",
    "    outdir = f\"E:/QR_Proj/Phase_2/plots/{year}\"\n",
    "    os.makedirs(outdir, exist_ok=True)\n",
    "    plt.savefig(f\"{outdir}/nvda_signals_subplot_{year}.png\")\n",
    "    plt.close()\n"
   ]
  }
 ],
 "metadata": {
  "kernelspec": {
   "display_name": "tech_stocks",
   "language": "python",
   "name": "python3"
  },
  "language_info": {
   "codemirror_mode": {
    "name": "ipython",
    "version": 3
   },
   "file_extension": ".py",
   "mimetype": "text/x-python",
   "name": "python",
   "nbconvert_exporter": "python",
   "pygments_lexer": "ipython3",
   "version": "3.11.13"
  }
 },
 "nbformat": 4,
 "nbformat_minor": 5
}
